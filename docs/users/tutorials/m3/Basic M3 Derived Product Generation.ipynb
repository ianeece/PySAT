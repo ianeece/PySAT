{
 "cells": [
  {
   "cell_type": "markdown",
   "metadata": {},
   "source": [
    "# Basic Derived Product Generation Through Built-in Methods"
   ]
  },
  {
   "cell_type": "markdown",
   "metadata": {},
   "source": [
    "## Methods to generate a dervied m3 or crism product\n",
    "\n",
    "1. Calling the method on the read in data: \n",
    "    - data.derived_product()\n",
    "2. Passing the data to the derived product: \n",
    "    - derived_produc(data)\n",
    "3. Calling the derived_product_func and defining the bands to be used: \n",
    "    - derived_product_func(data.loc[[list_of_bands]])\n",
    "    - derived_product_func(data.loc[[list_of_bands], [list_of_y_values], [list_of_x_values]])\n",
    "4. Calling the generic_func and passing the associated parameters:\n",
    "    - generic_func(data, [wavelengths], func=derived_product_func)\n",
    "\n",
    "For a more detailed understanding of this structure checkout the documentation.\n",
    "\n",
    "|  **data**: Object read in via plio on either m3 or crism images <br>\n",
    "|  **derived_product**: Name of the derived product like tilt or curvature <br>\n",
    "|  **generic_func**: Function that applies other functions to data <br>\n",
    "|  **derived_product_func**: Lower level function that performs the mathematical operations on the bands\n",
    "\n",
    "**This notebook focuses on methods 1 and 2**"
   ]
  },
  {
   "cell_type": "markdown",
   "metadata": {},
   "source": [
    "## Load the necessary modules\n",
    "\n",
    "|  The functions to generate the derived products can be found in the libpyhat library, while the data needs to be read in through plio. <br> The libpyhat functions can be applied in a variety of different ways giving jupyter notebook users more leverage when generating derived products.<br>\n",
    "|  <br>\n",
    "|  To generate M3 products specifically we will need the M3 reader from plio along with some functions from the libpyhat library."
   ]
  },
  {
   "cell_type": "code",
   "execution_count": 1,
   "metadata": {},
   "outputs": [
    {
     "name": "stdout",
     "output_type": "stream",
     "text": [
      "Populating the interactive namespace from numpy and matplotlib\n"
     ]
    }
   ],
   "source": [
    "# Uses any files found in the libpyhat example directory\n",
    "# DO NOT use this for your own images\n",
    "from libpyhat.examples import get_path\n",
    "\n",
    "# Import the data reader from plio\n",
    "from plio.io.io_moon_mineralogy_mapper import M3\n",
    "\n",
    "# Setup some basic ploting\n",
    "import matplotlib.pyplot as plt\n",
    "%pylab inline\n",
    "figsize(10,10)"
   ]
  },
  {
   "cell_type": "code",
   "execution_count": 2,
   "metadata": {},
   "outputs": [
    {
     "data": {
      "text/plain": [
       "array([ 540.84,  580.76,  620.69,  660.61,  700.54,  730.48,  750.44,\n",
       "        770.4 ,  790.37,  810.33,  830.29,  850.25,  870.21,  890.17,\n",
       "        910.14,  930.1 ,  950.06,  970.02,  989.98, 1009.95, 1029.91,\n",
       "       1049.87, 1069.83, 1089.79, 1109.76, 1129.72, 1149.68, 1169.64,\n",
       "       1189.6 , 1209.57, 1229.53, 1249.49, 1269.45, 1289.41, 1309.38,\n",
       "       1329.34, 1349.3 , 1369.26, 1389.22, 1409.19, 1429.15, 1449.11,\n",
       "       1469.07, 1489.03, 1508.99, 1528.96, 1548.92, 1578.86, 1618.79,\n",
       "       1658.71, 1698.63, 1738.56, 1778.48, 1818.4 , 1858.33, 1898.25,\n",
       "       1938.18, 1978.1 , 2018.02, 2057.95, 2097.87, 2137.8 , 2177.72,\n",
       "       2217.64, 2257.57, 2297.49, 2337.42, 2377.34, 2417.26, 2457.19,\n",
       "       2497.11, 2537.03, 2576.96, 2616.88, 2656.81, 2696.73, 2736.65,\n",
       "       2776.58, 2816.5 , 2856.43, 2896.35, 2936.27, 2976.2 ])"
      ]
     },
     "execution_count": 2,
     "metadata": {},
     "output_type": "execute_result"
    }
   ],
   "source": [
    "# Read the data in using the M3 object from plio\n",
    "m3_data = M3(get_path(\"M3_4030seg_L2_aristcrater.tif\"))\n",
    "m3_data.wavelengths"
   ]
  },
  {
   "cell_type": "markdown",
   "metadata": {},
   "source": [
    "## Getting a derived product\n",
    "\n",
    "|  There are two ways to go about generateing a derived product from the built in functions in libpyhat. <br>\n",
    "<ul>\n",
    "<li>The first is calling the function on the M3 object directly. The M3 object injects the functions from <br> \n",
    "    plio into itself using a function from libpyhat. </li>\n",
    "<br>\n",
    "<li>The second is calling the function and passing in the data. This still requires the M3 object and simply <br> \n",
    "    changes the way the function call looks. The first option simply dispatches to the second option using some python magic. </li>\n",
    "</ul>\n",
    "|  The main difference in the second option is that the function must be defined within the notebook, either through <br> an import or direct creation from within the notebook."
   ]
  },
  {
   "cell_type": "markdown",
   "metadata": {},
   "source": [
    "## First Option"
   ]
  },
  {
   "cell_type": "code",
   "execution_count": 3,
   "metadata": {},
   "outputs": [
    {
     "data": {
      "image/png": "[encoded data removed]",
      "text/plain": [
       "<Figure size 432x288 with 1 Axes>"
      ]
     },
     "metadata": {
      "needs_background": "light"
     },
     "output_type": "display_data"
    }
   ],
   "source": [
    "res = m3_data.tilt()\n",
    "imshow(res)\n",
    "show()"
   ]
  },
  {
   "cell_type": "markdown",
   "metadata": {},
   "source": [
    "## Second Option"
   ]
  },
  {
   "cell_type": "code",
   "execution_count": 4,
   "metadata": {},
   "outputs": [
    {
     "data": {
      "image/png": "[encoded data removed]",
      "text/plain": [
       "<Figure size 432x288 with 1 Axes>"
      ]
     },
     "metadata": {
      "needs_background": "light"
     },
     "output_type": "display_data"
    }
   ],
   "source": [
    "# Import some function from m3 supplimental derived products\n",
    "from libpyhat.derived.m3.supplemental import tilt\n",
    "\n",
    "res = tilt(m3_data)\n",
    "imshow(res)\n",
    "show()"
   ]
  },
  {
   "cell_type": "code",
   "execution_count": null,
   "metadata": {},
   "outputs": [],
   "source": []
  }
 ],
 "metadata": {
  "kernelspec": {
   "display_name": "Python 3",
   "language": "python",
   "name": "python3"
  },
  "language_info": {
   "codemirror_mode": {
    "name": "ipython",
    "version": 3
   },
   "file_extension": ".py",
   "mimetype": "text/x-python",
   "name": "python",
   "nbconvert_exporter": "python",
   "pygments_lexer": "ipython3",
   "version": "3.6.6"
  }
 },
 "nbformat": 4,
 "nbformat_minor": 2
}
