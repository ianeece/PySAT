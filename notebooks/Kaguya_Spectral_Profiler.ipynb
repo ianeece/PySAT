{
 "cells": [
  {
   "cell_type": "code",
   "execution_count": 1,
   "metadata": {
    "collapsed": false
   },
   "outputs": [
    {
     "name": "stdout",
     "output_type": "stream",
     "text": [
      "Populating the interactive namespace from numpy and matplotlib\n"
     ]
    }
   ],
   "source": [
    "from pyhat.fileio import io_spectral_profiler as sp\n",
    "from IPython.display import display, HTML\n",
    "%pylab inline"
   ]
  },
  {
   "cell_type": "markdown",
   "metadata": {},
   "source": [
    "The Spectral_Profiler object `s` represents the entirety of the data object.  It has the following attributes:\n",
    "\n",
    "  - `ancillary_data` containing a dict of data extracted from the binary\n",
    "  - `label` containing a custom dict of PVL objects\n",
    "  - `spectra` containing a dict of spectra keyed with a simple count of the observations, e.g. keys=[1, 2, 3, ..., n]\n",
    "      -  Each spectra is then a `Spectra` (Subclass of a pandas DataFrame)\n",
    "  - `wavelengths` contianing a pandas series with the wavelengths for the observations.  Each spectra is also indexed by the wavelengt\n",
    "\n",
    "For all of the extraction, `cleaned` is set to `False`, indidcating that the data should not be cleaned with the QA information."
   ]
  },
  {
   "cell_type": "markdown",
   "metadata": {},
   "source": [
    "## Level 2C"
   ]
  },
  {
   "cell_type": "code",
   "execution_count": 2,
   "metadata": {
    "collapsed": false,
    "scrolled": false
   },
   "outputs": [],
   "source": [
    "s = sp.Spectral_Profiler('/Users/jlaura/Desktop/SP_2C_02_05496_N710_E0306/SP_2C_02_05496_N710_E0306.spc', cleaned=False)"
   ]
  },
  {
   "cell_type": "markdown",
   "metadata": {},
   "source": [
    "## Level 2B2"
   ]
  },
  {
   "cell_type": "code",
   "execution_count": 3,
   "metadata": {
    "collapsed": false
   },
   "outputs": [],
   "source": [
    "s = sp.Spectral_Profiler('/Users/jlaura/Desktop/SP_2B2_02_05491_N411_E2171/SP_2B2_02_05491_N411_E2171.spc', cleaned=False)"
   ]
  },
  {
   "cell_type": "code",
   "execution_count": null,
   "metadata": {
    "collapsed": true
   },
   "outputs": [],
   "source": []
  }
 ],
 "metadata": {
  "kernelspec": {
   "display_name": "Python 3",
   "language": "python",
   "name": "python3"
  },
  "language_info": {
   "codemirror_mode": {
    "name": "ipython",
    "version": 3
   },
   "file_extension": ".py",
   "mimetype": "text/x-python",
   "name": "python",
   "nbconvert_exporter": "python",
   "pygments_lexer": "ipython3",
   "version": "3.5.1"
  }
 },
 "nbformat": 4,
 "nbformat_minor": 0
}
