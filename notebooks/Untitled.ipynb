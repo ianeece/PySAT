{
 "cells": [
  {
   "cell_type": "code",
   "execution_count": 84,
   "metadata": {},
   "outputs": [],
   "source": [
    "import math\n",
    "import numpy as np\n",
    "\n",
    "import libpyhat\n",
    "\n",
    "from libpyhat.analytics.analytics import band_center, band_area"
   ]
  },
  {
   "cell_type": "code",
   "execution_count": 330,
   "metadata": {},
   "outputs": [],
   "source": [
    "def band_minima(spectrum, low_endmember=None, high_endmember=None):\n",
    "    \"\"\"\n",
    "    Given two end members, find the minimum observed value inclusively\n",
    "    between them.\n",
    "\n",
    "    Parameters\n",
    "    ==========\n",
    "    spectrum : nd.Array\n",
    "\n",
    "    low_endmember : int\n",
    "                    The low wavelength\n",
    "\n",
    "    high_endmember : int\n",
    "                    The high wavelength\n",
    "\n",
    "    Returns\n",
    "    =======\n",
    "    minidx : int\n",
    "             The wavelength of the minimum value\n",
    "\n",
    "    minvalue : float\n",
    "               The observed minimal value\n",
    "    \"\"\"\n",
    "    if not low_endmember:\n",
    "        low_endmember = 0\n",
    "\n",
    "    if not high_endmember:\n",
    "        high_endmember = len(spectrum)\n",
    "        \n",
    "    sub_spectrum = spectrum[low_endmember:high_endmember]\n",
    "    \n",
    "    minvalue = np.amin(sub_spectrum)\n",
    "    minidx = np.where(sub_spectrum == minvalue)[0]\n",
    "\n",
    "    return minidx, minvalue\n",
    "\n",
    "def band_center(spectrum, low_endmember=None, high_endmember=None, degree=3):\n",
    "\n",
    "    if not low_endmember:\n",
    "        low_endmember = 0\n",
    "        \n",
    "    if not high_endmember:\n",
    "        high_endmember = len(spectrum)\n",
    "\n",
    "    sub_spectrum = spectrum[low_endmember:high_endmember]\n",
    "    sub_spectrum_indices = list(range(len(sub_spectrum)))\n",
    "    print(sub_spectrum)\n",
    "\n",
    "    fit = np.polyfit(sub_spectrum_indices, sub_spectrum, degree)\n",
    "\n",
    "    center_fit = np.polyval(fit, sub_spectrum_indices)\n",
    "    center = band_minima(center_fit, low_endmember, high_endmember)\n",
    "\n",
    "    return center, center_fit\n",
    "\n",
    "def band_area(spectrum, low_endmember=None, high_endmember=None):\n",
    "    \"\"\"\n",
    "    Compute the area under the curve between two endpoints where the\n",
    "    y-value <= 1.\n",
    "    \"\"\"\n",
    "    if not low_endmember:\n",
    "        low_endmember = 0\n",
    "    if not high_endmember:\n",
    "        high_endmember = len(spectrum)\n",
    "\n",
    "    sub_spectrum = spectrum[low_endmember:high_endmember]\n",
    "    return np.trapz(np.where(sub_spectrum <= 1.0))\n",
    "\n",
    "def band_asymmetry(spectrum, low_endmember=None, high_endmember=None, degree=3):\n",
    "    \"\"\"\n",
    "    Compute the asymmetry of an absorption feature as\n",
    "    (left_area - right_area) / total_area\n",
    "\n",
    "    Parameters\n",
    "    ----------\n",
    "    specturm : object\n",
    "\n",
    "    low_endmember : int\n",
    "        Bottom end of wavelengths to be obversed\n",
    "\n",
    "    high_endmember : int\n",
    "        Top end of wavelengths to be obversed\n",
    "\n",
    "    Returns\n",
    "    -------\n",
    "    asymmetry : ndarray\n",
    "        Array of percentage values of how asymmetrical the two halves of the spectrum are\n",
    "        Where 100% is completely asymmetrical and 0 is completely symmetrical\n",
    "    \"\"\"\n",
    "\n",
    "    if not low_endmember:\n",
    "        low_endmember = 0\n",
    "        \n",
    "    if not high_endmember:\n",
    "        high_endmember = len(spectrum)\n",
    "    \n",
    "    sub_spectrum = spectrum[low_endmember:high_endmember]\n",
    "    \n",
    "    center, _ = band_center(sub_spectrum, degree=degree)\n",
    "    print(center)\n",
    "    center_idx = center[0][math.floor(len(center[0])/2)]\n",
    "\n",
    "    area_left = band_area(sub_spectrum[:center_idx])\n",
    "\n",
    "    if len(sub_spectrum) % 2 == 0:\n",
    "        area_right = band_area(sub_spectrum[center_idx:])\n",
    "    else:\n",
    "        area_right = band_area(sub_spectrum[center_idx + 1:])\n",
    "        \n",
    "    asymmetry = abs((area_left - area_right) / (area_left + area_right))\n",
    "    return asymmetry[0]"
   ]
  },
  {
   "cell_type": "code",
   "execution_count": 331,
   "metadata": {},
   "outputs": [
    {
     "name": "stdout",
     "output_type": "stream",
     "text": [
      "[ 0  1  2  3  4  5  6  7  8  9 10 11 12 13 14 15 16 17 18 19 20 21 22]\n",
      "(array([0]), -1.6025121515760643e-15)\n"
     ]
    },
    {
     "name": "stderr",
     "output_type": "stream",
     "text": [
      "/home/acpaquette/anaconda3/envs/libpyhat/lib/python3.6/site-packages/ipykernel_launcher.py:110: RuntimeWarning: invalid value encountered in true_divide\n"
     ]
    },
    {
     "data": {
      "text/plain": [
       "nan"
      ]
     },
     "execution_count": 331,
     "metadata": {},
     "output_type": "execute_result"
    }
   ],
   "source": [
    "band_asymmetry(np.array(range(23)), degree=3)"
   ]
  },
  {
   "cell_type": "code",
   "execution_count": 325,
   "metadata": {},
   "outputs": [
    {
     "name": "stdout",
     "output_type": "stream",
     "text": [
      "(array([ 0,  1,  2,  3,  4,  5,  6,  7,  8,  9, 10, 11, 12, 13, 14, 15, 16,\n",
      "       17, 18, 19, 20, 21]), 1.0)\n"
     ]
    },
    {
     "data": {
      "text/plain": [
       "0.0"
      ]
     },
     "execution_count": 325,
     "metadata": {},
     "output_type": "execute_result"
    }
   ],
   "source": [
    "band_asymmetry(np.ones(22), degree=3)"
   ]
  },
  {
   "cell_type": "code",
   "execution_count": 326,
   "metadata": {},
   "outputs": [
    {
     "name": "stdout",
     "output_type": "stream",
     "text": [
      "(array([ 0,  1,  2,  3,  4,  5,  6,  7,  8,  9, 10, 11, 12, 13, 14, 15, 16,\n",
      "       17, 18, 19, 20]), 1.0)\n"
     ]
    },
    {
     "data": {
      "text/plain": [
       "0.0"
      ]
     },
     "execution_count": 326,
     "metadata": {},
     "output_type": "execute_result"
    }
   ],
   "source": [
    "band_asymmetry(np.ones(21), degree=3)"
   ]
  },
  {
   "cell_type": "code",
   "execution_count": 315,
   "metadata": {},
   "outputs": [
    {
     "data": {
      "text/plain": [
       "(array([ 0,  1,  2,  3,  4,  5,  6,  7,  8,  9, 10, 11, 12, 13, 14, 15, 16,\n",
       "        17, 18, 19, 20, 21, 22]), 1.0)"
      ]
     },
     "execution_count": 315,
     "metadata": {},
     "output_type": "execute_result"
    }
   ],
   "source": [
    "band_minima(np.ones(23))"
   ]
  },
  {
   "cell_type": "code",
   "execution_count": 322,
   "metadata": {},
   "outputs": [
    {
     "data": {
      "text/plain": [
       "((array([0]), 0),\n",
       " array([-1.60251215e-15,  1.00000000e+00,  2.00000000e+00,  3.00000000e+00,\n",
       "         4.00000000e+00,  5.00000000e+00,  6.00000000e+00,  7.00000000e+00,\n",
       "         8.00000000e+00,  9.00000000e+00,  1.00000000e+01,  1.10000000e+01,\n",
       "         1.20000000e+01,  1.30000000e+01,  1.40000000e+01,  1.50000000e+01,\n",
       "         1.60000000e+01,  1.70000000e+01,  1.80000000e+01,  1.90000000e+01,\n",
       "         2.00000000e+01,  2.10000000e+01,  2.20000000e+01]))"
      ]
     },
     "execution_count": 322,
     "metadata": {},
     "output_type": "execute_result"
    }
   ],
   "source": [
    "band_center(np.array(range(23)))"
   ]
  },
  {
   "cell_type": "code",
   "execution_count": null,
   "metadata": {},
   "outputs": [],
   "source": []
  },
  {
   "cell_type": "code",
   "execution_count": null,
   "metadata": {},
   "outputs": [],
   "source": []
  }
 ],
 "metadata": {
  "kernelspec": {
   "display_name": "Python 3",
   "language": "python",
   "name": "python3"
  },
  "language_info": {
   "codemirror_mode": {
    "name": "ipython",
    "version": 3
   },
   "file_extension": ".py",
   "mimetype": "text/x-python",
   "name": "python",
   "nbconvert_exporter": "python",
   "pygments_lexer": "ipython3",
   "version": "3.6.6"
  }
 },
 "nbformat": 4,
 "nbformat_minor": 2
}
